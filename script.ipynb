{
 "cells": [
  {
   "cell_type": "code",
   "execution_count": 19,
   "metadata": {
    "collapsed": false
   },
   "outputs": [],
   "source": [
    "import re\n",
    "import requests\n",
    "import html2text\n",
    "from bs4 import BeautifulSoup\n",
    "from pyquery import PyQuery as pq\n",
    "import codecs"
   ]
  },
  {
   "cell_type": "markdown",
   "metadata": {},
   "source": [
    "## 从首页提取所有链接"
   ]
  },
  {
   "cell_type": "code",
   "execution_count": 2,
   "metadata": {
    "collapsed": true
   },
   "outputs": [],
   "source": [
    "url = 'https://www.w3.org/DesignIssues/'"
   ]
  },
  {
   "cell_type": "code",
   "execution_count": 3,
   "metadata": {
    "collapsed": true
   },
   "outputs": [],
   "source": [
    "r = requests.get(url)"
   ]
  },
  {
   "cell_type": "code",
   "execution_count": 4,
   "metadata": {
    "collapsed": true
   },
   "outputs": [],
   "source": [
    "html = r.text"
   ]
  },
  {
   "cell_type": "code",
   "execution_count": 5,
   "metadata": {
    "collapsed": true
   },
   "outputs": [],
   "source": [
    "soup = BeautifulSoup(html, 'html.parser')"
   ]
  },
  {
   "cell_type": "markdown",
   "metadata": {},
   "source": [
    "### 这里遇到了一点小坑, 就是直接上首页无法用 pyquery 解析到 a 标签\n",
    "- 所以先提取 body 部分载进一步提取"
   ]
  },
  {
   "cell_type": "code",
   "execution_count": 6,
   "metadata": {
    "collapsed": false
   },
   "outputs": [],
   "source": [
    "body = soup.body"
   ]
  },
  {
   "cell_type": "code",
   "execution_count": 7,
   "metadata": {
    "collapsed": true
   },
   "outputs": [],
   "source": [
    "d = pq(str(body))"
   ]
  },
  {
   "cell_type": "code",
   "execution_count": 8,
   "metadata": {
    "collapsed": true
   },
   "outputs": [],
   "source": [
    "li = d('li')"
   ]
  },
  {
   "cell_type": "code",
   "execution_count": 9,
   "metadata": {
    "collapsed": true
   },
   "outputs": [],
   "source": [
    "a = li('a')"
   ]
  },
  {
   "cell_type": "code",
   "execution_count": 10,
   "metadata": {
    "collapsed": true
   },
   "outputs": [],
   "source": [
    "urls_dict = {}"
   ]
  },
  {
   "cell_type": "code",
   "execution_count": 11,
   "metadata": {
    "collapsed": false
   },
   "outputs": [],
   "source": [
    "for a in a.items():\n",
    "    href = str(a.attr('href'))\n",
    "    urls_dict[href] = url+href"
   ]
  },
  {
   "cell_type": "markdown",
   "metadata": {},
   "source": [
    "### 去掉一些无用链接"
   ]
  },
  {
   "cell_type": "code",
   "execution_count": 12,
   "metadata": {
    "collapsed": false,
    "scrolled": true
   },
   "outputs": [
    {
     "data": {
      "text/plain": [
       "'https://www.w3.org/DesignIssues/../1999/09/specification.html'"
      ]
     },
     "execution_count": 12,
     "metadata": {},
     "output_type": "execute_result"
    }
   ],
   "source": [
    "urls_dict.pop('../1999/09/specification.html')"
   ]
  },
  {
   "cell_type": "code",
   "execution_count": 13,
   "metadata": {
    "collapsed": false
   },
   "outputs": [
    {
     "data": {
      "text/plain": [
       "'https://www.w3.org/DesignIssues/../Protocols/RelevantProtocols.html'"
      ]
     },
     "execution_count": 13,
     "metadata": {},
     "output_type": "execute_result"
    }
   ],
   "source": [
    "urls_dict.pop('../Protocols/RelevantProtocols.html')"
   ]
  },
  {
   "cell_type": "code",
   "execution_count": 14,
   "metadata": {
    "collapsed": false
   },
   "outputs": [
    {
     "data": {
      "text/plain": [
       "'https://www.w3.org/DesignIssues/../MarkUp/SGML/TimComments.html'"
      ]
     },
     "execution_count": 14,
     "metadata": {},
     "output_type": "execute_result"
    }
   ],
   "source": [
    "urls_dict.pop('../MarkUp/SGML/TimComments.html')"
   ]
  },
  {
   "cell_type": "code",
   "execution_count": 15,
   "metadata": {
    "collapsed": false
   },
   "outputs": [
    {
     "data": {
      "text/plain": [
       "'https://www.w3.org/DesignIssues/http://www.w3.org/2003/04/iri.html'"
      ]
     },
     "execution_count": 15,
     "metadata": {},
     "output_type": "execute_result"
    }
   ],
   "source": [
    "urls_dict.pop('http://www.w3.org/2003/04/iri.html')"
   ]
  },
  {
   "cell_type": "code",
   "execution_count": 16,
   "metadata": {
    "collapsed": false,
    "scrolled": true
   },
   "outputs": [
    {
     "data": {
      "text/plain": [
       "{'Abstractions.html': 'https://www.w3.org/DesignIssues/Abstractions.html',\n",
       " 'Annotation': 'https://www.w3.org/DesignIssues/Annotation',\n",
       " 'Architecture.html': 'https://www.w3.org/DesignIssues/Architecture.html',\n",
       " 'Availability.html': 'https://www.w3.org/DesignIssues/Availability.html',\n",
       " 'Axioms.html': 'https://www.w3.org/DesignIssues/Axioms.html',\n",
       " 'BuildingBackLinks': 'https://www.w3.org/DesignIssues/BuildingBackLinks',\n",
       " 'CG.html': 'https://www.w3.org/DesignIssues/CG.html',\n",
       " 'Caching.html': 'https://www.w3.org/DesignIssues/Caching.html',\n",
       " 'CloudStorage.html': 'https://www.w3.org/DesignIssues/CloudStorage.html',\n",
       " 'CompatibleProof': 'https://www.w3.org/DesignIssues/CompatibleProof',\n",
       " 'Conversations': 'https://www.w3.org/DesignIssues/Conversations',\n",
       " 'Diff': 'https://www.w3.org/DesignIssues/Diff',\n",
       " 'Editor.html': 'https://www.w3.org/DesignIssues/Editor.html',\n",
       " 'Evolution.html': 'https://www.w3.org/DesignIssues/Evolution.html',\n",
       " 'Extensible.html': 'https://www.w3.org/DesignIssues/Extensible.html',\n",
       " 'Filtering.html': 'https://www.w3.org/DesignIssues/Filtering.html',\n",
       " 'Formats.html': 'https://www.w3.org/DesignIssues/Formats.html',\n",
       " 'Formats.html#4': 'https://www.w3.org/DesignIssues/Formats.html#4',\n",
       " 'Fractal.html': 'https://www.w3.org/DesignIssues/Fractal.html',\n",
       " 'Fragment.html': 'https://www.w3.org/DesignIssues/Fragment.html',\n",
       " 'Function.html': 'https://www.w3.org/DesignIssues/Function.html',\n",
       " 'Generic.html': 'https://www.w3.org/DesignIssues/Generic.html',\n",
       " 'GovData.html': 'https://www.w3.org/DesignIssues/GovData.html',\n",
       " 'HTTP-URI.html': 'https://www.w3.org/DesignIssues/HTTP-URI.html',\n",
       " 'HTTP-URI2.html': 'https://www.w3.org/DesignIssues/HTTP-URI2.html',\n",
       " 'HTTP0.9Summary.html': 'https://www.w3.org/DesignIssues/HTTP0.9Summary.html',\n",
       " 'Identity.html': 'https://www.w3.org/DesignIssues/Identity.html',\n",
       " 'Inconsistent.html': 'https://www.w3.org/DesignIssues/Inconsistent.html',\n",
       " 'Interpretation.html': 'https://www.w3.org/DesignIssues/Interpretation.html',\n",
       " 'InterpretationProperties.html': 'https://www.w3.org/DesignIssues/InterpretationProperties.html',\n",
       " 'LinkLaw.html': 'https://www.w3.org/DesignIssues/LinkLaw.html',\n",
       " 'LinkMyths.html': 'https://www.w3.org/DesignIssues/LinkMyths.html',\n",
       " 'LinkTypes.html': 'https://www.w3.org/DesignIssues/LinkTypes.html',\n",
       " 'LinkedData.html': 'https://www.w3.org/DesignIssues/LinkedData.html',\n",
       " 'Logic.html': 'https://www.w3.org/DesignIssues/Logic.html',\n",
       " 'Mandatory.html': 'https://www.w3.org/DesignIssues/Mandatory.html',\n",
       " 'Meaning.html': 'https://www.w3.org/DesignIssues/Meaning.html',\n",
       " 'Metadata.html': 'https://www.w3.org/DesignIssues/Metadata.html',\n",
       " 'Model.html': 'https://www.w3.org/DesignIssues/Model.html',\n",
       " 'Multiuser.html': 'https://www.w3.org/DesignIssues/Multiuser.html',\n",
       " 'N3Alternatives': 'https://www.w3.org/DesignIssues/N3Alternatives',\n",
       " 'NameMyth.html': 'https://www.w3.org/DesignIssues/NameMyth.html',\n",
       " 'NamespacesAreResources.html': 'https://www.w3.org/DesignIssues/NamespacesAreResources.html',\n",
       " 'Naming.html': 'https://www.w3.org/DesignIssues/Naming.html',\n",
       " 'Navigation.html': 'https://www.w3.org/DesignIssues/Navigation.html',\n",
       " 'NoSnooping.html': 'https://www.w3.org/DesignIssues/NoSnooping.html',\n",
       " 'None': 'https://www.w3.org/DesignIssues/None',\n",
       " 'Notation3.html': 'https://www.w3.org/DesignIssues/Notation3.html',\n",
       " 'Notification.html': 'https://www.w3.org/DesignIssues/Notification.html',\n",
       " 'PaperTrail.html': 'https://www.w3.org/DesignIssues/PaperTrail.html',\n",
       " 'PersistentDomains': 'https://www.w3.org/DesignIssues/PersistentDomains',\n",
       " 'PersistentDomains.html': 'https://www.w3.org/DesignIssues/PersistentDomains.html',\n",
       " 'Preface.html': 'https://www.w3.org/DesignIssues/Preface.html',\n",
       " 'Principles.html': 'https://www.w3.org/DesignIssues/Principles.html',\n",
       " 'ProtocolVersions.html': 'https://www.w3.org/DesignIssues/ProtocolVersions.html',\n",
       " 'RDB-RDF.html': 'https://www.w3.org/DesignIssues/RDB-RDF.html',\n",
       " 'RDF-XML.html': 'https://www.w3.org/DesignIssues/RDF-XML.html',\n",
       " 'RDFnot.html': 'https://www.w3.org/DesignIssues/RDFnot.html',\n",
       " 'ReadWriteLinkedData.html': 'https://www.w3.org/DesignIssues/ReadWriteLinkedData.html',\n",
       " 'Reify.html': 'https://www.w3.org/DesignIssues/Reify.html',\n",
       " 'Relative': 'https://www.w3.org/DesignIssues/Relative',\n",
       " 'Rules.html': 'https://www.w3.org/DesignIssues/Rules.html',\n",
       " 'Security-ClientCerts.html': 'https://www.w3.org/DesignIssues/Security-ClientCerts.html',\n",
       " 'Security-ModelTrust.html': 'https://www.w3.org/DesignIssues/Security-ModelTrust.html',\n",
       " 'Security-NotTheS.html': 'https://www.w3.org/DesignIssues/Security-NotTheS.html',\n",
       " 'Security-Origin.html': 'https://www.w3.org/DesignIssues/Security-Origin.html',\n",
       " 'Semantic.html': 'https://www.w3.org/DesignIssues/Semantic.html',\n",
       " 'SemanticClipboard': 'https://www.w3.org/DesignIssues/SemanticClipboard',\n",
       " 'Stack.html': 'https://www.w3.org/DesignIssues/Stack.html',\n",
       " 'Syntax.html': 'https://www.w3.org/DesignIssues/Syntax.html',\n",
       " 'TagLabel.html': 'https://www.w3.org/DesignIssues/TagLabel.html',\n",
       " 'TermResource.html': 'https://www.w3.org/DesignIssues/TermResource.html',\n",
       " 'Toolbox.html': 'https://www.w3.org/DesignIssues/Toolbox.html',\n",
       " 'Topology.html': 'https://www.w3.org/DesignIssues/Topology.html',\n",
       " 'UI.html': 'https://www.w3.org/DesignIssues/UI.html',\n",
       " 'UserAgent.html': 'https://www.w3.org/DesignIssues/UserAgent.html',\n",
       " 'Uses.html': 'https://www.w3.org/DesignIssues/Uses.html',\n",
       " 'Versioning.html': 'https://www.w3.org/DesignIssues/Versioning.html',\n",
       " 'WebServices.html': 'https://www.w3.org/DesignIssues/WebServices.html',\n",
       " 'Webize.html': 'https://www.w3.org/DesignIssues/Webize.html',\n",
       " 'XML': 'https://www.w3.org/DesignIssues/XML',\n",
       " 'Xlink.html': 'https://www.w3.org/DesignIssues/Xlink.html'}"
      ]
     },
     "execution_count": 16,
     "metadata": {},
     "output_type": "execute_result"
    }
   ],
   "source": [
    "urls_dict"
   ]
  },
  {
   "cell_type": "code",
   "execution_count": 17,
   "metadata": {
    "collapsed": false
   },
   "outputs": [
    {
     "data": {
      "text/plain": [
       "82"
      ]
     },
     "execution_count": 17,
     "metadata": {},
     "output_type": "execute_result"
    }
   ],
   "source": [
    "len(urls_dict)"
   ]
  },
  {
   "cell_type": "markdown",
   "metadata": {},
   "source": [
    "## 提取相应链接的文档\n",
    "- 需要解决一个问题: 文章中的 local 链接如何替换成 global url\n",
    "- 根据观察, 有以下几个模式\n",
    "    - \\[](sjflskdjf.html)\n",
    "    - \\[](sdjf-sjd.html)\n",
    "    - \\[](skjdf0.9sdfs.html)\n",
    "    - \\[](../sfsdfjlk.html)\n",
    "    - \\[](../../sdfkj.html)\n",
    "    - \\[](sdfsdf.html#4)\n",
    "\n",
    "- 其实不用管后边, 只要处理好 `](`, `](../../` 这种应该就行了.\n",
    "- 还要求不能匹配 `](http` 这种模式"
   ]
  },
  {
   "cell_type": "code",
   "execution_count": 163,
   "metadata": {
    "collapsed": false
   },
   "outputs": [],
   "source": [
    "def sub_url(text):\n",
    "    p_1 = re.compile(r'(\\]\\()((?!http)(?!\\.\\.))', re.VERBOSE | re.MULTILINE)\n",
    "    p_2 = re.compile(r'(\\]\\(\\.\\.\\/)((?!\\.\\.))', re.VERBOSE | re.MULTILINE)\n",
    "    sub_part_1 = '](https://www.w3.org/DesignIssues/'\n",
    "    sub_part_2 = '](https://www.w3.org/'\n",
    "    text1 = p_1.sub(sub_part_1, text)\n",
    "    text2 = p_2.sub(sub_part_2, text1)\n",
    "    # result = p.findall(text)\n",
    "    return text2\n",
    "\n",
    "with codecs.open('Semantic.html.md', 'r') as f:\n",
    "    text = f.read()\n",
    "    \n",
    "text = sub_url(text)\n",
    "# print text"
   ]
  },
  {
   "cell_type": "code",
   "execution_count": 164,
   "metadata": {
    "collapsed": false
   },
   "outputs": [
    {
     "name": "stdout",
     "output_type": "stream",
     "text": [
      "0-->https://www.w3.org/DesignIssues/Semantic.html\n",
      "1-->https://www.w3.org/DesignIssues/LinkMyths.html\n",
      "2-->https://www.w3.org/DesignIssues/Security-ClientCerts.html\n",
      "3-->https://www.w3.org/DesignIssues/CompatibleProof\n",
      "4-->https://www.w3.org/DesignIssues/ProtocolVersions.html\n",
      "5-->https://www.w3.org/DesignIssues/Multiuser.html\n",
      "6-->https://www.w3.org/DesignIssues/Caching.html\n",
      "7-->https://www.w3.org/DesignIssues/Conversations\n",
      "8-->https://www.w3.org/DesignIssues/Model.html\n",
      "9-->https://www.w3.org/DesignIssues/NamespacesAreResources.html\n",
      "10-->https://www.w3.org/DesignIssues/Annotation\n",
      "11-->https://www.w3.org/DesignIssues/CG.html\n",
      "12-->https://www.w3.org/DesignIssues/Meaning.html\n",
      "13-->https://www.w3.org/DesignIssues/PersistentDomains.html\n",
      "14-->https://www.w3.org/DesignIssues/RDF-XML.html\n",
      "15-->https://www.w3.org/DesignIssues/Navigation.html\n",
      "16-->https://www.w3.org/DesignIssues/SemanticClipboard\n",
      "17-->https://www.w3.org/DesignIssues/RDB-RDF.html\n",
      "18-->https://www.w3.org/DesignIssues/Syntax.html\n",
      "19-->https://www.w3.org/DesignIssues/Uses.html\n",
      "20-->https://www.w3.org/DesignIssues/BuildingBackLinks\n",
      "21-->https://www.w3.org/DesignIssues/TermResource.html\n",
      "22-->https://www.w3.org/DesignIssues/Interpretation.html\n",
      "23-->https://www.w3.org/DesignIssues/LinkTypes.html\n",
      "24-->https://www.w3.org/DesignIssues/ReadWriteLinkedData.html\n",
      "25-->https://www.w3.org/DesignIssues/Logic.html\n",
      "26-->https://www.w3.org/DesignIssues/Formats.html\n",
      "27-->https://www.w3.org/DesignIssues/PersistentDomains\n",
      "28-->https://www.w3.org/DesignIssues/Fragment.html\n",
      "29-->https://www.w3.org/DesignIssues/Security-Origin.html\n",
      "30-->https://www.w3.org/DesignIssues/Extensible.html\n",
      "31-->https://www.w3.org/DesignIssues/NoSnooping.html\n",
      "32-->https://www.w3.org/DesignIssues/HTTP-URI.html\n",
      "33-->https://www.w3.org/DesignIssues/Availability.html\n",
      "34-->https://www.w3.org/DesignIssues/Topology.html\n",
      "35-->https://www.w3.org/DesignIssues/None\n",
      "36-->https://www.w3.org/DesignIssues/Security-NotTheS.html\n",
      "37-->https://www.w3.org/DesignIssues/LinkLaw.html\n",
      "38-->https://www.w3.org/DesignIssues/InterpretationProperties.html\n",
      "39-->https://www.w3.org/DesignIssues/PaperTrail.html\n",
      "40-->https://www.w3.org/DesignIssues/LinkedData.html\n",
      "41-->https://www.w3.org/DesignIssues/Axioms.html\n",
      "42-->https://www.w3.org/DesignIssues/Fractal.html\n",
      "43-->https://www.w3.org/DesignIssues/Notation3.html\n",
      "44-->https://www.w3.org/DesignIssues/Filtering.html\n",
      "45-->https://www.w3.org/DesignIssues/HTTP-URI2.html\n",
      "46-->https://www.w3.org/DesignIssues/Rules.html\n",
      "47-->https://www.w3.org/DesignIssues/N3Alternatives\n",
      "48-->https://www.w3.org/DesignIssues/UI.html\n",
      "49-->https://www.w3.org/DesignIssues/GovData.html\n",
      "50-->https://www.w3.org/DesignIssues/CloudStorage.html\n",
      "51-->https://www.w3.org/DesignIssues/Versioning.html\n",
      "52-->https://www.w3.org/DesignIssues/Xlink.html\n",
      "53-->https://www.w3.org/DesignIssues/Principles.html\n",
      "54-->https://www.w3.org/DesignIssues/Webize.html\n",
      "55-->https://www.w3.org/DesignIssues/Inconsistent.html\n",
      "56-->https://www.w3.org/DesignIssues/XML\n",
      "57-->https://www.w3.org/DesignIssues/Evolution.html\n",
      "58-->https://www.w3.org/DesignIssues/Notification.html\n",
      "59-->https://www.w3.org/DesignIssues/NameMyth.html\n",
      "60-->https://www.w3.org/DesignIssues/WebServices.html\n",
      "61-->https://www.w3.org/DesignIssues/Security-ModelTrust.html\n",
      "62-->https://www.w3.org/DesignIssues/Formats.html#4\n",
      "63-->https://www.w3.org/DesignIssues/Diff\n",
      "64-->https://www.w3.org/DesignIssues/RDFnot.html\n",
      "65-->https://www.w3.org/DesignIssues/Architecture.html\n",
      "66-->https://www.w3.org/DesignIssues/Naming.html\n",
      "67-->https://www.w3.org/DesignIssues/Preface.html\n",
      "68-->https://www.w3.org/DesignIssues/Reify.html\n",
      "69-->https://www.w3.org/DesignIssues/Identity.html\n",
      "70-->https://www.w3.org/DesignIssues/Function.html\n",
      "71-->https://www.w3.org/DesignIssues/Mandatory.html\n",
      "72-->https://www.w3.org/DesignIssues/Metadata.html\n",
      "73-->https://www.w3.org/DesignIssues/Toolbox.html\n",
      "74-->https://www.w3.org/DesignIssues/Stack.html\n",
      "75-->https://www.w3.org/DesignIssues/HTTP0.9Summary.html\n",
      "76-->https://www.w3.org/DesignIssues/Generic.html\n",
      "77-->https://www.w3.org/DesignIssues/TagLabel.html\n",
      "78-->https://www.w3.org/DesignIssues/UserAgent.html\n",
      "79-->https://www.w3.org/DesignIssues/Abstractions.html\n",
      "80-->https://www.w3.org/DesignIssues/Relative\n",
      "81-->https://www.w3.org/DesignIssues/Editor.html\n"
     ]
    }
   ],
   "source": [
    "i = 0\n",
    "for k, v in urls_dict.items():\n",
    "    print str(i) + '-->' + v\n",
    "    r = requests.get(v)\n",
    "    html = r.text\n",
    "    original_text = html2text.html2text(html)\n",
    "    filtered_text = sub_url(original_text)\n",
    "    with open('%s.md' % k, 'w') as f:       \n",
    "        f.write(filtered_text.encode('utf-8'))\n",
    "    i += 1"
   ]
  },
  {
   "cell_type": "markdown",
   "metadata": {},
   "source": [
    "## The whole page\n",
    "\n",
    "- 先想的是整个转化成 Markdown"
   ]
  },
  {
   "cell_type": "code",
   "execution_count": 32,
   "metadata": {
    "collapsed": false
   },
   "outputs": [],
   "source": [
    "soup_str = str(soup)"
   ]
  },
  {
   "cell_type": "code",
   "execution_count": 35,
   "metadata": {
    "collapsed": true
   },
   "outputs": [],
   "source": [
    "summary = str(html2text.html2text(soup_str))"
   ]
  },
  {
   "cell_type": "code",
   "execution_count": 41,
   "metadata": {
    "collapsed": false
   },
   "outputs": [],
   "source": [
    "p = re.compile(r'\\.html\\)')"
   ]
  },
  {
   "cell_type": "code",
   "execution_count": 42,
   "metadata": {
    "collapsed": false
   },
   "outputs": [],
   "source": [
    "summary = p.sub(r'.html.md)', summary)"
   ]
  },
  {
   "cell_type": "code",
   "execution_count": 44,
   "metadata": {
    "collapsed": false
   },
   "outputs": [],
   "source": [
    "with open('SUMMARY.md', 'w') as f:\n",
    "    f.write(summary)"
   ]
  },
  {
   "cell_type": "code",
   "execution_count": null,
   "metadata": {
    "collapsed": true
   },
   "outputs": [],
   "source": []
  }
 ],
 "metadata": {
  "anaconda-cloud": {},
  "kernelspec": {
   "display_name": "Python [conda root]",
   "language": "python",
   "name": "conda-root-py"
  },
  "language_info": {
   "codemirror_mode": {
    "name": "ipython",
    "version": 2
   },
   "file_extension": ".py",
   "mimetype": "text/x-python",
   "name": "python",
   "nbconvert_exporter": "python",
   "pygments_lexer": "ipython2",
   "version": "2.7.12"
  }
 },
 "nbformat": 4,
 "nbformat_minor": 1
}
